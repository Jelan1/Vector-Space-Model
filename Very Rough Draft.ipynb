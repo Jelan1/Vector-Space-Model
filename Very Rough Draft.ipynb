{
 "cells": [
  {
   "cell_type": "code",
   "execution_count": 7,
   "id": "9243ec75",
   "metadata": {
    "ExecuteTime": {
     "end_time": "2022-03-31T20:53:58.759654Z",
     "start_time": "2022-03-31T20:53:55.080379Z"
    }
   },
   "outputs": [],
   "source": [
    "import os\n",
    "import pandas as pd\n",
    "import nltk\n",
    "import vsm"
   ]
  },
  {
   "cell_type": "code",
   "execution_count": 3,
   "id": "7e884a07",
   "metadata": {
    "ExecuteTime": {
     "end_time": "2022-03-31T20:38:27.879987Z",
     "start_time": "2022-03-31T20:38:20.572298Z"
    }
   },
   "outputs": [],
   "source": [
    "DATA_HOME = 'data\\data'\n",
    "VSM_HOME = os.path.join(DATA_HOME, 'vsmdata')\n",
    "temp = os.path.join(VSM_HOME,'giga_window20-flat.csv.gz' )\n",
    "giga20 = pd.read_csv(temp)\n",
    "giga20.set_index(giga20.columns[0],inplace=True)\n",
    "giga20.drop(giga20.columns[0],inplace=True,axis=1)\n",
    "giga20.index.name = ''\n",
    "stop_words = nltk.corpus.stopwords.words('english')\n"
   ]
  },
  {
   "cell_type": "code",
   "execution_count": 4,
   "id": "13674477",
   "metadata": {
    "ExecuteTime": {
     "end_time": "2022-03-31T20:38:44.077318Z",
     "start_time": "2022-03-31T20:38:44.046783Z"
    }
   },
   "outputs": [],
   "source": [
    "def Common_Context_Neighbors(word):\n",
    "    word = word.lower()\n",
    "    try:\n",
    "        raw_top_words = pd.DataFrame(giga20[word])\n",
    "    except:\n",
    "        print(\"That word is not in the vocabulary!\")\n",
    "    else:\n",
    "        raw_top_words = pd.DataFrame(giga20[word])\n",
    "        raw_top_words\n",
    "        for value in raw_top_words.index:\n",
    "            if value in stop_words:\n",
    "                raw_top_words[word][value] = 0\n",
    "        top_words = raw_top_words.sort_values(by=word, ascending=False)\n",
    "        return(top_words)"
   ]
  },
  {
   "cell_type": "markdown",
   "id": "c8b24c51",
   "metadata": {
    "ExecuteTime": {
     "end_time": "2022-03-31T20:38:56.177837Z",
     "start_time": "2022-03-31T20:38:56.126162Z"
    }
   },
   "source": [
    "Let's take a closer look at the Co-occurance matrix, A, we derived from our frequency matrix.\n",
    "Notice it is now in a square term-term form-- the words (tokens) making up the vocabulary run along the rows and columns. Each element A_ij is the co-occurance between word A_i and word A_j. Even though it is unweighted, a suprising depth of semantic knowledge can still be gleaned. \n",
    "Semantic notion of Age---> Age (to have age): often biological but also has some relationship with time\n",
    "Semantic notion of Old---> Old (to be old): More temporally based (and a specific spectrum of age)\n",
    "Present a quick roam of the data and finish with mountains.\n",
    "Explains why Mountain are old but do not really have an age.\n",
    "Also present the noise and segway"
   ]
  },
  {
   "cell_type": "markdown",
   "id": "beac61c4",
   "metadata": {},
   "source": [
    "## Signal Enhancement and Noise Reduction\n",
    "Show Power Law distribution of words\n",
    "Discard Stop Words and note that relative frequency is what we're after (similar motivation to tf-idf)\n",
    "Introduce familiar basic concept of Observed/Expected and law of independence in prob\n",
    "Derive and show log pmi or ppmi"
   ]
  },
  {
   "cell_type": "code",
   "execution_count": 10,
   "id": "33d137b7",
   "metadata": {
    "ExecuteTime": {
     "end_time": "2022-03-31T20:54:39.634858Z",
     "start_time": "2022-03-31T20:54:36.891741Z"
    }
   },
   "outputs": [
    {
     "data": {
      "text/html": [
       "<div>\n",
       "<style scoped>\n",
       "    .dataframe tbody tr th:only-of-type {\n",
       "        vertical-align: middle;\n",
       "    }\n",
       "\n",
       "    .dataframe tbody tr th {\n",
       "        vertical-align: top;\n",
       "    }\n",
       "\n",
       "    .dataframe thead th {\n",
       "        text-align: right;\n",
       "    }\n",
       "</style>\n",
       "<table border=\"1\" class=\"dataframe\">\n",
       "  <thead>\n",
       "    <tr style=\"text-align: right;\">\n",
       "      <th></th>\n",
       "      <th>);</th>\n",
       "      <th>..</th>\n",
       "      <th>...</th>\n",
       "      <th>:(</th>\n",
       "      <th>:)</th>\n",
       "      <th>:/</th>\n",
       "      <th>:D</th>\n",
       "      <th>:|</th>\n",
       "      <th>;p</th>\n",
       "      <th>___</th>\n",
       "      <th>...</th>\n",
       "      <th>younger</th>\n",
       "      <th>your</th>\n",
       "      <th>yourself</th>\n",
       "      <th>youth</th>\n",
       "      <th>zebra</th>\n",
       "      <th>zero</th>\n",
       "      <th>zinc</th>\n",
       "      <th>zombie</th>\n",
       "      <th>zone</th>\n",
       "      <th>zoo</th>\n",
       "    </tr>\n",
       "    <tr>\n",
       "      <th></th>\n",
       "      <th></th>\n",
       "      <th></th>\n",
       "      <th></th>\n",
       "      <th></th>\n",
       "      <th></th>\n",
       "      <th></th>\n",
       "      <th></th>\n",
       "      <th></th>\n",
       "      <th></th>\n",
       "      <th></th>\n",
       "      <th></th>\n",
       "      <th></th>\n",
       "      <th></th>\n",
       "      <th></th>\n",
       "      <th></th>\n",
       "      <th></th>\n",
       "      <th></th>\n",
       "      <th></th>\n",
       "      <th></th>\n",
       "      <th></th>\n",
       "      <th></th>\n",
       "    </tr>\n",
       "  </thead>\n",
       "  <tbody>\n",
       "    <tr>\n",
       "      <th>):</th>\n",
       "      <td>2.609549</td>\n",
       "      <td>0.000000</td>\n",
       "      <td>1.053592</td>\n",
       "      <td>3.991109</td>\n",
       "      <td>2.549983</td>\n",
       "      <td>3.175042</td>\n",
       "      <td>0.000000</td>\n",
       "      <td>0.716617</td>\n",
       "      <td>0.0</td>\n",
       "      <td>2.017692</td>\n",
       "      <td>...</td>\n",
       "      <td>0.000000</td>\n",
       "      <td>1.122748</td>\n",
       "      <td>1.701437</td>\n",
       "      <td>0.045064</td>\n",
       "      <td>0.000000</td>\n",
       "      <td>0.000000</td>\n",
       "      <td>0.824642</td>\n",
       "      <td>1.318910</td>\n",
       "      <td>2.262649</td>\n",
       "      <td>0.0</td>\n",
       "    </tr>\n",
       "    <tr>\n",
       "      <th>);</th>\n",
       "      <td>8.153442</td>\n",
       "      <td>0.000000</td>\n",
       "      <td>0.000000</td>\n",
       "      <td>3.087976</td>\n",
       "      <td>0.000000</td>\n",
       "      <td>0.000000</td>\n",
       "      <td>0.945737</td>\n",
       "      <td>0.912096</td>\n",
       "      <td>0.0</td>\n",
       "      <td>1.443285</td>\n",
       "      <td>...</td>\n",
       "      <td>0.376044</td>\n",
       "      <td>0.182101</td>\n",
       "      <td>0.000000</td>\n",
       "      <td>0.305082</td>\n",
       "      <td>1.330659</td>\n",
       "      <td>0.000000</td>\n",
       "      <td>1.330276</td>\n",
       "      <td>1.514390</td>\n",
       "      <td>0.139457</td>\n",
       "      <td>0.0</td>\n",
       "    </tr>\n",
       "    <tr>\n",
       "      <th>..</th>\n",
       "      <td>0.000000</td>\n",
       "      <td>7.693901</td>\n",
       "      <td>5.288701</td>\n",
       "      <td>0.183926</td>\n",
       "      <td>0.246878</td>\n",
       "      <td>2.258231</td>\n",
       "      <td>1.442885</td>\n",
       "      <td>0.000000</td>\n",
       "      <td>0.0</td>\n",
       "      <td>0.000000</td>\n",
       "      <td>...</td>\n",
       "      <td>0.000000</td>\n",
       "      <td>0.002029</td>\n",
       "      <td>0.000000</td>\n",
       "      <td>0.000000</td>\n",
       "      <td>2.660715</td>\n",
       "      <td>0.679081</td>\n",
       "      <td>1.922733</td>\n",
       "      <td>0.000000</td>\n",
       "      <td>0.650028</td>\n",
       "      <td>0.0</td>\n",
       "    </tr>\n",
       "    <tr>\n",
       "      <th>...</th>\n",
       "      <td>0.000000</td>\n",
       "      <td>5.288779</td>\n",
       "      <td>5.385230</td>\n",
       "      <td>0.938549</td>\n",
       "      <td>1.576864</td>\n",
       "      <td>0.000000</td>\n",
       "      <td>0.000000</td>\n",
       "      <td>0.000000</td>\n",
       "      <td>0.0</td>\n",
       "      <td>0.746377</td>\n",
       "      <td>...</td>\n",
       "      <td>0.000000</td>\n",
       "      <td>0.902924</td>\n",
       "      <td>0.452101</td>\n",
       "      <td>0.000000</td>\n",
       "      <td>2.955268</td>\n",
       "      <td>0.000000</td>\n",
       "      <td>0.000000</td>\n",
       "      <td>0.694098</td>\n",
       "      <td>0.020493</td>\n",
       "      <td>0.0</td>\n",
       "    </tr>\n",
       "    <tr>\n",
       "      <th>:(</th>\n",
       "      <td>3.089389</td>\n",
       "      <td>0.185791</td>\n",
       "      <td>0.940335</td>\n",
       "      <td>8.116303</td>\n",
       "      <td>5.876669</td>\n",
       "      <td>5.179972</td>\n",
       "      <td>4.770091</td>\n",
       "      <td>0.000000</td>\n",
       "      <td>0.0</td>\n",
       "      <td>0.000000</td>\n",
       "      <td>...</td>\n",
       "      <td>0.000000</td>\n",
       "      <td>1.127486</td>\n",
       "      <td>1.057831</td>\n",
       "      <td>0.440556</td>\n",
       "      <td>0.000000</td>\n",
       "      <td>0.000000</td>\n",
       "      <td>0.000000</td>\n",
       "      <td>0.000000</td>\n",
       "      <td>0.000000</td>\n",
       "      <td>0.0</td>\n",
       "    </tr>\n",
       "  </tbody>\n",
       "</table>\n",
       "<p>5 rows × 5999 columns</p>\n",
       "</div>"
      ],
      "text/plain": [
       "           );        ..       ...        :(        :)        :/        :D  \\\n",
       "                                                                            \n",
       "):   2.609549  0.000000  1.053592  3.991109  2.549983  3.175042  0.000000   \n",
       ");   8.153442  0.000000  0.000000  3.087976  0.000000  0.000000  0.945737   \n",
       "..   0.000000  7.693901  5.288701  0.183926  0.246878  2.258231  1.442885   \n",
       "...  0.000000  5.288779  5.385230  0.938549  1.576864  0.000000  0.000000   \n",
       ":(   3.089389  0.185791  0.940335  8.116303  5.876669  5.179972  4.770091   \n",
       "\n",
       "           :|   ;p       ___  ...   younger      your  yourself     youth  \\\n",
       "                              ...                                           \n",
       "):   0.716617  0.0  2.017692  ...  0.000000  1.122748  1.701437  0.045064   \n",
       ");   0.912096  0.0  1.443285  ...  0.376044  0.182101  0.000000  0.305082   \n",
       "..   0.000000  0.0  0.000000  ...  0.000000  0.002029  0.000000  0.000000   \n",
       "...  0.000000  0.0  0.746377  ...  0.000000  0.902924  0.452101  0.000000   \n",
       ":(   0.000000  0.0  0.000000  ...  0.000000  1.127486  1.057831  0.440556   \n",
       "\n",
       "        zebra      zero      zinc    zombie      zone  zoo  \n",
       "                                                            \n",
       "):   0.000000  0.000000  0.824642  1.318910  2.262649  0.0  \n",
       ");   1.330659  0.000000  1.330276  1.514390  0.139457  0.0  \n",
       "..   2.660715  0.679081  1.922733  0.000000  0.650028  0.0  \n",
       "...  2.955268  0.000000  0.000000  0.694098  0.020493  0.0  \n",
       ":(   0.000000  0.000000  0.000000  0.000000  0.000000  0.0  \n",
       "\n",
       "[5 rows x 5999 columns]"
      ]
     },
     "execution_count": 10,
     "metadata": {},
     "output_type": "execute_result"
    }
   ],
   "source": [
    "pmi = vsm.pmi(giga20)\n",
    "pmi.head()"
   ]
  },
  {
   "cell_type": "markdown",
   "id": "8f58b9df",
   "metadata": {},
   "source": [
    "Show what the neighbors are (note that we're using cos similarity)\n",
    "Pick 3 or for good examples that show what it did and what it suffers from"
   ]
  },
  {
   "cell_type": "markdown",
   "id": "0dd8acc0",
   "metadata": {},
   "source": [
    "Introduce Retro Weighting using knowledge graphs\n",
    "SHow and tell"
   ]
  },
  {
   "cell_type": "code",
   "execution_count": null,
   "id": "a8339a3a",
   "metadata": {},
   "outputs": [],
   "source": [
    "X_retro"
   ]
  },
  {
   "cell_type": "code",
   "execution_count": null,
   "id": "8e452f0a",
   "metadata": {},
   "outputs": [],
   "source": [
    "Tableau visualiztions of it"
   ]
  },
  {
   "cell_type": "markdown",
   "id": "9924ef1f",
   "metadata": {},
   "source": [
    "SHow the linear alegbra for the transformations and talk about how joint prob (marginal * marginal)\n",
    "can be understood as being proportional to the dot product.\n",
    "`Possible extensions to non language`\n",
    "` Possibly train it to predict and compare with benchmark.`` "
   ]
  }
 ],
 "metadata": {
  "kernelspec": {
   "display_name": "Python 3 (ipykernel)",
   "language": "python",
   "name": "python3"
  },
  "language_info": {
   "codemirror_mode": {
    "name": "ipython",
    "version": 3
   },
   "file_extension": ".py",
   "mimetype": "text/x-python",
   "name": "python",
   "nbconvert_exporter": "python",
   "pygments_lexer": "ipython3",
   "version": "3.8.12"
  }
 },
 "nbformat": 4,
 "nbformat_minor": 5
}
