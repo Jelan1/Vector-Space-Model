{
 "cells": [
  {
   "cell_type": "code",
   "execution_count": 1,
   "id": "d06b3f6d",
   "metadata": {
    "ExecuteTime": {
     "end_time": "2022-04-22T03:25:13.679786Z",
     "start_time": "2022-04-22T03:25:13.656782Z"
    },
    "hide_input": true
   },
   "outputs": [
    {
     "name": "stdout",
     "output_type": "stream",
     "text": [
      "hi\n"
     ]
    }
   ],
   "source": [
    "print('hi')"
   ]
  }
 ],
 "metadata": {
  "kernelspec": {
   "display_name": "Python 3 (ipykernel)",
   "language": "python",
   "name": "python3"
  },
  "language_info": {
   "codemirror_mode": {
    "name": "ipython",
    "version": 3
   },
   "file_extension": ".py",
   "mimetype": "text/x-python",
   "name": "python",
   "nbconvert_exporter": "python",
   "pygments_lexer": "ipython3",
   "version": "3.8.12"
  }
 },
 "nbformat": 4,
 "nbformat_minor": 5
}
