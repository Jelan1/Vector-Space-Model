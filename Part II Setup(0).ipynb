{
 "cells": [
  {
   "cell_type": "markdown",
   "metadata": {},
   "source": [
    "# Contents\n",
    "   1. [Overview](#Overview)\n",
    "   2. [Data](#Data)\n",
    "      1. [Initial Files](#Initial-Files)\n",
    "      2. [Data Processing](#Data-processing)\n",
    "   3. [Coding it](#Coding-It)\n",
    "   3. [Final DataFrame](#Final-DataFrame)\n",
    "         1. [Normalization](#Normalization)"
   ]
  },
  {
   "cell_type": "markdown",
   "metadata": {},
   "source": [
    "#### Overview,\n",
    "\"Since Part 1 is all old stuff, you might be interested in seeing if any of the proposed new stuff pans out before diving into the notebooks. I still have to finish writing up Part 1 so in the mean time I'll dump some code, visualizations, and explanations in Pt 2 for now. This page is about getting set up and viewing the financial data that I will as a corpus for the Stock Vector Space Model.\""
   ]
  },
  {
   "cell_type": "code",
   "execution_count": 1,
   "metadata": {},
   "outputs": [],
   "source": [
    "import pandas as pd\n",
    "import numpy as np\n",
    "import chants # calling it a util is boring"
   ]
  },
  {
   "cell_type": "markdown",
   "metadata": {},
   "source": [
    "## Data\n",
    "I am using 10 year market data on ~ 500 US firms listed on stock exchanges. Each firm is a csv file. For each trading day, several indicators are recorded.\n",
    "#### Initial Files"
   ]
  },
  {
   "cell_type": "code",
   "execution_count": 2,
   "metadata": {},
   "outputs": [
    {
     "data": {
      "text/html": [
       "<div>\n",
       "<style scoped>\n",
       "    .dataframe tbody tr th:only-of-type {\n",
       "        vertical-align: middle;\n",
       "    }\n",
       "\n",
       "    .dataframe tbody tr th {\n",
       "        vertical-align: top;\n",
       "    }\n",
       "\n",
       "    .dataframe thead th {\n",
       "        text-align: right;\n",
       "    }\n",
       "</style>\n",
       "<table border=\"1\" class=\"dataframe\">\n",
       "  <thead>\n",
       "    <tr style=\"text-align: right;\">\n",
       "      <th></th>\n",
       "      <th>Date</th>\n",
       "      <th>Open</th>\n",
       "      <th>High</th>\n",
       "      <th>Low</th>\n",
       "      <th>Close</th>\n",
       "      <th>Volume</th>\n",
       "      <th>Adj Close</th>\n",
       "    </tr>\n",
       "  </thead>\n",
       "  <tbody>\n",
       "    <tr>\n",
       "      <th>0</th>\n",
       "      <td>2012-09-12</td>\n",
       "      <td>666.85</td>\n",
       "      <td>669.90</td>\n",
       "      <td>656.00</td>\n",
       "      <td>669.79</td>\n",
       "      <td>25410600</td>\n",
       "      <td>669.79</td>\n",
       "    </tr>\n",
       "    <tr>\n",
       "      <th>1</th>\n",
       "      <td>2012-09-11</td>\n",
       "      <td>665.11</td>\n",
       "      <td>670.10</td>\n",
       "      <td>656.50</td>\n",
       "      <td>660.59</td>\n",
       "      <td>17987400</td>\n",
       "      <td>660.59</td>\n",
       "    </tr>\n",
       "    <tr>\n",
       "      <th>2</th>\n",
       "      <td>2012-09-10</td>\n",
       "      <td>680.45</td>\n",
       "      <td>683.29</td>\n",
       "      <td>662.10</td>\n",
       "      <td>662.74</td>\n",
       "      <td>17428500</td>\n",
       "      <td>662.74</td>\n",
       "    </tr>\n",
       "    <tr>\n",
       "      <th>3</th>\n",
       "      <td>2012-09-07</td>\n",
       "      <td>678.05</td>\n",
       "      <td>682.48</td>\n",
       "      <td>675.77</td>\n",
       "      <td>680.44</td>\n",
       "      <td>11773800</td>\n",
       "      <td>680.44</td>\n",
       "    </tr>\n",
       "    <tr>\n",
       "      <th>4</th>\n",
       "      <td>2012-09-06</td>\n",
       "      <td>673.17</td>\n",
       "      <td>678.29</td>\n",
       "      <td>670.80</td>\n",
       "      <td>676.27</td>\n",
       "      <td>13971300</td>\n",
       "      <td>676.27</td>\n",
       "    </tr>\n",
       "    <tr>\n",
       "      <th>...</th>\n",
       "      <td>...</td>\n",
       "      <td>...</td>\n",
       "      <td>...</td>\n",
       "      <td>...</td>\n",
       "      <td>...</td>\n",
       "      <td>...</td>\n",
       "      <td>...</td>\n",
       "    </tr>\n",
       "    <tr>\n",
       "      <th>3170</th>\n",
       "      <td>2000-02-07</td>\n",
       "      <td>108.00</td>\n",
       "      <td>114.25</td>\n",
       "      <td>105.94</td>\n",
       "      <td>114.06</td>\n",
       "      <td>15770800</td>\n",
       "      <td>28.39</td>\n",
       "    </tr>\n",
       "    <tr>\n",
       "      <th>3171</th>\n",
       "      <td>2000-02-04</td>\n",
       "      <td>103.94</td>\n",
       "      <td>110.00</td>\n",
       "      <td>103.62</td>\n",
       "      <td>108.00</td>\n",
       "      <td>15206800</td>\n",
       "      <td>26.88</td>\n",
       "    </tr>\n",
       "    <tr>\n",
       "      <th>3172</th>\n",
       "      <td>2000-02-03</td>\n",
       "      <td>100.31</td>\n",
       "      <td>104.25</td>\n",
       "      <td>100.25</td>\n",
       "      <td>103.31</td>\n",
       "      <td>16977600</td>\n",
       "      <td>25.72</td>\n",
       "    </tr>\n",
       "    <tr>\n",
       "      <th>3173</th>\n",
       "      <td>2000-02-02</td>\n",
       "      <td>100.75</td>\n",
       "      <td>102.12</td>\n",
       "      <td>97.00</td>\n",
       "      <td>98.81</td>\n",
       "      <td>16588800</td>\n",
       "      <td>24.60</td>\n",
       "    </tr>\n",
       "    <tr>\n",
       "      <th>3174</th>\n",
       "      <td>2000-02-01</td>\n",
       "      <td>104.00</td>\n",
       "      <td>105.00</td>\n",
       "      <td>100.00</td>\n",
       "      <td>100.25</td>\n",
       "      <td>11380000</td>\n",
       "      <td>24.96</td>\n",
       "    </tr>\n",
       "  </tbody>\n",
       "</table>\n",
       "<p>3175 rows × 7 columns</p>\n",
       "</div>"
      ],
      "text/plain": [
       "            Date    Open    High     Low   Close    Volume  Adj Close\n",
       "0     2012-09-12  666.85  669.90  656.00  669.79  25410600     669.79\n",
       "1     2012-09-11  665.11  670.10  656.50  660.59  17987400     660.59\n",
       "2     2012-09-10  680.45  683.29  662.10  662.74  17428500     662.74\n",
       "3     2012-09-07  678.05  682.48  675.77  680.44  11773800     680.44\n",
       "4     2012-09-06  673.17  678.29  670.80  676.27  13971300     676.27\n",
       "...          ...     ...     ...     ...     ...       ...        ...\n",
       "3170  2000-02-07  108.00  114.25  105.94  114.06  15770800      28.39\n",
       "3171  2000-02-04  103.94  110.00  103.62  108.00  15206800      26.88\n",
       "3172  2000-02-03  100.31  104.25  100.25  103.31  16977600      25.72\n",
       "3173  2000-02-02  100.75  102.12   97.00   98.81  16588800      24.60\n",
       "3174  2000-02-01  104.00  105.00  100.00  100.25  11380000      24.96\n",
       "\n",
       "[3175 rows x 7 columns]"
      ]
     },
     "execution_count": 2,
     "metadata": {},
     "output_type": "execute_result"
    }
   ],
   "source": [
    "pd.read_csv('../data/AAPL.csv')"
   ]
  },
  {
   "cell_type": "markdown",
   "metadata": {},
   "source": [
    "The dataset is pretty raw, since it's just the emperical data from a a series of trading days. I should point out that most financial datasets are fortunate cases where much of the data wrangling is already done by the recording process. If you want your own stock data to play around with:\n",
    "    I got mine from Tucker Balcher at\n",
    "    https://quantsoftware.gatech.edu/ML4T_Software_Setup\n",
    "\n",
    "Kaggle has a ton as well:\n",
    "https://www.kaggle.com/borismarjanovic/price-volume-data-for-all-us-stocks-etfs"
   ]
  },
  {
   "cell_type": "markdown",
   "metadata": {},
   "source": [
    "#### Data processing\n",
    "- Let's focus on the most commonly used market indicator: Adjusted Close.(https://www.investopedia.com/terms/a/adjusted_closing_price.asp),\n",
    "- Given the time-series nature of the data, we want to have a datetime index\n",
    "- We have to be wary that the market is closed often (holidays & weekends)\n",
    "- We have to be mindful of firms that fall in or out of existence in our timeframe\n",
    "- We have to be able to instantiate many stock dataframes at once and merge them as needed\n",
    "#### Coding It"
   ]
  },
  {
   "cell_type": "code",
   "execution_count": 6,
   "metadata": {},
   "outputs": [],
   "source": [
    "start_date = '2010-01-01'\n",
    "end_date = '2011-01-01'\n",
    "dates = pd.date_range(start_date, end_date)\n",
    "df1 = pd.DataFrame(dates)\n",
    "df1 = df1.set_index(0)\n",
    "dfSPY = pd.read_csv('../data/SPY.csv', index_col = \"Date\", parse_dates=True, usecols=['Date','Adj Close'],na_values=['NA'])\n",
    "dfSPY = dfSPY.rename(columns={'Adj Close':'SPY'})\n",
    "df1 = df1.join(dfSPY)\n",
    "df1 = df1.dropna() \n",
    "\n",
    "symbols = ['AAPL', 'GOOG','IBM'] \n",
    "for symbol in symbols:\n",
    "    temp = pd.read_csv(f'../data/{symbol}.csv',index_col='Date',parse_dates=True,usecols=['Date','Adj Close'],na_values='nan')\n",
    "    temp = temp.rename(columns={'Adj Close':symbol})\n",
    "    df1 = df1.join(temp)\n",
    "df1.index.name = 'Date'"
   ]
  },
  {
   "cell_type": "markdown",
   "metadata": {},
   "source": [
    "### Final Data Frame\n",
    "This time series of adjusted returns for a set of stocks will be the corpus that informs the stock VSM. Notice, we can eaily adjust the date range and stock considered through the get_data() function."
   ]
  },
  {
   "cell_type": "code",
   "execution_count": 7,
   "metadata": {},
   "outputs": [
    {
     "data": {
      "text/html": [
       "<div>\n",
       "<style scoped>\n",
       "    .dataframe tbody tr th:only-of-type {\n",
       "        vertical-align: middle;\n",
       "    }\n",
       "\n",
       "    .dataframe tbody tr th {\n",
       "        vertical-align: top;\n",
       "    }\n",
       "\n",
       "    .dataframe thead th {\n",
       "        text-align: right;\n",
       "    }\n",
       "</style>\n",
       "<table border=\"1\" class=\"dataframe\">\n",
       "  <thead>\n",
       "    <tr style=\"text-align: right;\">\n",
       "      <th></th>\n",
       "      <th>SPY</th>\n",
       "      <th>AAPL</th>\n",
       "      <th>GOOG</th>\n",
       "      <th>IBM</th>\n",
       "    </tr>\n",
       "    <tr>\n",
       "      <th>Date</th>\n",
       "      <th></th>\n",
       "      <th></th>\n",
       "      <th></th>\n",
       "      <th></th>\n",
       "    </tr>\n",
       "  </thead>\n",
       "  <tbody>\n",
       "    <tr>\n",
       "      <th>2010-01-04</th>\n",
       "      <td>108.27</td>\n",
       "      <td>213.10</td>\n",
       "      <td>626.75</td>\n",
       "      <td>126.24</td>\n",
       "    </tr>\n",
       "    <tr>\n",
       "      <th>2010-01-05</th>\n",
       "      <td>108.56</td>\n",
       "      <td>213.46</td>\n",
       "      <td>623.99</td>\n",
       "      <td>124.71</td>\n",
       "    </tr>\n",
       "    <tr>\n",
       "      <th>2010-01-06</th>\n",
       "      <td>108.64</td>\n",
       "      <td>210.07</td>\n",
       "      <td>608.26</td>\n",
       "      <td>123.90</td>\n",
       "    </tr>\n",
       "    <tr>\n",
       "      <th>2010-01-07</th>\n",
       "      <td>109.10</td>\n",
       "      <td>209.68</td>\n",
       "      <td>594.10</td>\n",
       "      <td>123.47</td>\n",
       "    </tr>\n",
       "    <tr>\n",
       "      <th>2010-01-08</th>\n",
       "      <td>109.46</td>\n",
       "      <td>211.07</td>\n",
       "      <td>602.02</td>\n",
       "      <td>124.71</td>\n",
       "    </tr>\n",
       "    <tr>\n",
       "      <th>...</th>\n",
       "      <td>...</td>\n",
       "      <td>...</td>\n",
       "      <td>...</td>\n",
       "      <td>...</td>\n",
       "    </tr>\n",
       "    <tr>\n",
       "      <th>2010-12-27</th>\n",
       "      <td>121.90</td>\n",
       "      <td>323.29</td>\n",
       "      <td>602.38</td>\n",
       "      <td>141.17</td>\n",
       "    </tr>\n",
       "    <tr>\n",
       "      <th>2010-12-28</th>\n",
       "      <td>122.07</td>\n",
       "      <td>324.08</td>\n",
       "      <td>598.92</td>\n",
       "      <td>141.53</td>\n",
       "    </tr>\n",
       "    <tr>\n",
       "      <th>2010-12-29</th>\n",
       "      <td>122.16</td>\n",
       "      <td>323.90</td>\n",
       "      <td>601.00</td>\n",
       "      <td>142.32</td>\n",
       "    </tr>\n",
       "    <tr>\n",
       "      <th>2010-12-30</th>\n",
       "      <td>121.97</td>\n",
       "      <td>322.28</td>\n",
       "      <td>598.86</td>\n",
       "      <td>142.46</td>\n",
       "    </tr>\n",
       "    <tr>\n",
       "      <th>2010-12-31</th>\n",
       "      <td>122.00</td>\n",
       "      <td>321.18</td>\n",
       "      <td>593.97</td>\n",
       "      <td>142.55</td>\n",
       "    </tr>\n",
       "  </tbody>\n",
       "</table>\n",
       "<p>252 rows × 4 columns</p>\n",
       "</div>"
      ],
      "text/plain": [
       "               SPY    AAPL    GOOG     IBM\n",
       "Date                                      \n",
       "2010-01-04  108.27  213.10  626.75  126.24\n",
       "2010-01-05  108.56  213.46  623.99  124.71\n",
       "2010-01-06  108.64  210.07  608.26  123.90\n",
       "2010-01-07  109.10  209.68  594.10  123.47\n",
       "2010-01-08  109.46  211.07  602.02  124.71\n",
       "...            ...     ...     ...     ...\n",
       "2010-12-27  121.90  323.29  602.38  141.17\n",
       "2010-12-28  122.07  324.08  598.92  141.53\n",
       "2010-12-29  122.16  323.90  601.00  142.32\n",
       "2010-12-30  121.97  322.28  598.86  142.46\n",
       "2010-12-31  122.00  321.18  593.97  142.55\n",
       "\n",
       "[252 rows x 4 columns]"
      ]
     },
     "execution_count": 7,
     "metadata": {},
     "output_type": "execute_result"
    }
   ],
   "source": [
    "df1"
   ]
  },
  {
   "cell_type": "code",
   "execution_count": 8,
   "metadata": {},
   "outputs": [
    {
     "data": {
      "text/plain": [
       "<AxesSubplot:xlabel='Date'>"
      ]
     },
     "execution_count": 8,
     "metadata": {},
     "output_type": "execute_result"
    },
    {
     "data": {
      "image/png": "[encoded data removed]",
      "text/plain": [
       "<Figure size 432x288 with 1 Axes>"
      ]
     },
     "metadata": {
      "needs_background": "light"
     },
     "output_type": "display_data"
    }
   ],
   "source": [
    "df1.plot()"
   ]
  },
  {
   "cell_type": "markdown",
   "metadata": {},
   "source": [
    "### Normalization\n",
    "Last Note:\n",
    "You could normalize, so the price movement relative to the stocks themselves is clear. This is shown below. There are other times and places to normalize as well. I will intepret the *unnormalized* time series of returns as the corpus and apply normalization later"
   ]
  },
  {
   "cell_type": "code",
   "execution_count": 11,
   "metadata": {},
   "outputs": [
    {
     "data": {
      "text/plain": [
       "<AxesSubplot:xlabel='Date'>"
      ]
     },
     "execution_count": 11,
     "metadata": {},
     "output_type": "execute_result"
    },
    {
     "data": {
      "image/png": "[encoded data removed]",
      "text/plain": [
       "<Figure size 432x288 with 1 Axes>"
      ]
     },
     "metadata": {
      "needs_background": "light"
     },
     "output_type": "display_data"
    }
   ],
   "source": [
    "(df1/df1.iloc[0,:]).plot()"
   ]
  }
 ],
 "metadata": {
  "interpreter": {
   "hash": "531c6d9bb671ae26577f84a5ba94d2a7319163ad7d3b5701bc50e3510a678afd"
  },
  "kernelspec": {
   "display_name": "Python 3.9.7",
   "language": "python",
   "name": "python3"
  },
  "language_info": {
   "codemirror_mode": {
    "name": "ipython",
    "version": 3
   },
   "file_extension": ".py",
   "mimetype": "text/x-python",
   "name": "python",
   "nbconvert_exporter": "python",
   "pygments_lexer": "ipython3",
   "version": "3.9.7"
  },
  "orig_nbformat": 4
 },
 "nbformat": 4,
 "nbformat_minor": 2
}
